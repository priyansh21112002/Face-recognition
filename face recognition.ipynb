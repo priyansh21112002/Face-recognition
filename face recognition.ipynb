{
 "cells": [
  {
   "cell_type": "code",
   "execution_count": 1,
   "id": "b3e91346",
   "metadata": {},
   "outputs": [],
   "source": [
    "import cv2\n",
    "\n",
    "face_cascade=cv2.CascadeClassifier(cv2.data.haarcascades+\"haarcascade_frontalface_default.xml\")\n",
    "eye_cascade=cv2.CascadeClassifier(cv2.data.haarcascades+\"haarcascade_eye.xml\")"
   ]
  },
  {
   "cell_type": "code",
   "execution_count": 2,
   "id": "17907349",
   "metadata": {},
   "outputs": [],
   "source": [
    "def face_eye_detect(color,bw):\n",
    "    face=face_cascade.detectMultiScale(bw,1.3,5)\n",
    "    for (x,y,height,width) in face:\n",
    "        cv2.rectangle(color,(x,y),(x+width,y+height),(0,0,255),3)\n",
    "        area_bw=bw[y:y+height,x:x+width]\n",
    "        area_color=color[y:y+height,x:x+width]\n",
    "        eye=eye_cascade.detectMultiScale(area_bw,1.1,3)\n",
    "        \n",
    "        for (e_x,e_y,e_height,e_width) in eye:\n",
    "            cv2.rectangle(area_color,(e_x,e_y),(e_x + e_width,e_y + e_height),(255,0,255),2)\n",
    "    return color"
   ]
  },
  {
   "cell_type": "code",
   "execution_count": null,
   "id": "202431b6",
   "metadata": {},
   "outputs": [],
   "source": [
    "video=cv2.VideoCapture(0)\n",
    "while True:\n",
    "    _,color=video.read()\n",
    "    bw=cv2.cvtColor(color,cv2.COLOR_BGR2GRAY)\n",
    "    result=face_eye_detect(color,bw)\n",
    "    if cv2.waitKey(0) & 0xFF==ord('Q'):\n",
    "        break\n",
    "video.release()\n",
    "cv2.destroyAllWindows()"
   ]
  },
  {
   "cell_type": "code",
   "execution_count": null,
   "id": "abad46d7",
   "metadata": {},
   "outputs": [],
   "source": []
  }
 ],
 "metadata": {
  "kernelspec": {
   "display_name": "Python 3",
   "language": "python",
   "name": "python3"
  },
  "language_info": {
   "codemirror_mode": {
    "name": "ipython",
    "version": 3
   },
   "file_extension": ".py",
   "mimetype": "text/x-python",
   "name": "python",
   "nbconvert_exporter": "python",
   "pygments_lexer": "ipython3",
   "version": "3.6.13"
  }
 },
 "nbformat": 4,
 "nbformat_minor": 5
}
